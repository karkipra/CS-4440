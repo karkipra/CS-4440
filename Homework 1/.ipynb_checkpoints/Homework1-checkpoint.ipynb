{
 "cells": [
  {
   "cell_type": "markdown",
   "metadata": {},
   "source": [
    "# CS:4440 - Web Mining \n",
    "# Homework 1"
   ]
  },
  {
   "cell_type": "markdown",
   "metadata": {},
   "source": [
    "### Data Description\n",
    "\n",
    "The source file respresents a network of Reddit users and their connections. Each row (source user) is deliminated by '|' and their column (linked users) is deliminated by ','."
   ]
  },
  {
   "cell_type": "code",
   "execution_count": 31,
   "metadata": {},
   "outputs": [],
   "source": [
    "# Imports\n",
    "import csv\n",
    "import pandas as pd "
   ]
  },
  {
   "cell_type": "code",
   "execution_count": 36,
   "metadata": {},
   "outputs": [
    {
     "data": {
      "text/html": [
       "<div>\n",
       "<style scoped>\n",
       "    .dataframe tbody tr th:only-of-type {\n",
       "        vertical-align: middle;\n",
       "    }\n",
       "\n",
       "    .dataframe tbody tr th {\n",
       "        vertical-align: top;\n",
       "    }\n",
       "\n",
       "    .dataframe thead th {\n",
       "        text-align: right;\n",
       "    }\n",
       "</style>\n",
       "<table border=\"1\" class=\"dataframe\">\n",
       "  <thead>\n",
       "    <tr style=\"text-align: right;\">\n",
       "      <th></th>\n",
       "      <th>source user</th>\n",
       "      <th>linked users</th>\n",
       "    </tr>\n",
       "  </thead>\n",
       "  <tbody>\n",
       "    <tr>\n",
       "      <td>0</td>\n",
       "      <td>frankEfurter</td>\n",
       "      <td>IReadItOnReddit43,Mmiklase,erdbeerheld,owljay,...</td>\n",
       "    </tr>\n",
       "    <tr>\n",
       "      <td>1</td>\n",
       "      <td>simplythrowmeaway</td>\n",
       "      <td>larsskynyrd79,deathangel1217,linkenski,ValarM0...</td>\n",
       "    </tr>\n",
       "    <tr>\n",
       "      <td>2</td>\n",
       "      <td>gmiz0</td>\n",
       "      <td>berrythecat,alex23b,bluek00laid,Chaos_Therum,3...</td>\n",
       "    </tr>\n",
       "    <tr>\n",
       "      <td>3</td>\n",
       "      <td>Frogtown_</td>\n",
       "      <td>brokenpixel,TheCreepyDude,bluek00laid,gmiz0</td>\n",
       "    </tr>\n",
       "    <tr>\n",
       "      <td>4</td>\n",
       "      <td>tinderhackflex</td>\n",
       "      <td>Liru</td>\n",
       "    </tr>\n",
       "    <tr>\n",
       "      <td>...</td>\n",
       "      <td>...</td>\n",
       "      <td>...</td>\n",
       "    </tr>\n",
       "    <tr>\n",
       "      <td>25297</td>\n",
       "      <td>optsyn</td>\n",
       "      <td>imro</td>\n",
       "    </tr>\n",
       "    <tr>\n",
       "      <td>25298</td>\n",
       "      <td>DJ_Skully</td>\n",
       "      <td>imro</td>\n",
       "    </tr>\n",
       "    <tr>\n",
       "      <td>25299</td>\n",
       "      <td>Zelda___Fitzgerald</td>\n",
       "      <td>imro</td>\n",
       "    </tr>\n",
       "    <tr>\n",
       "      <td>25300</td>\n",
       "      <td>Skinny128</td>\n",
       "      <td>imro</td>\n",
       "    </tr>\n",
       "    <tr>\n",
       "      <td>25301</td>\n",
       "      <td>noitsreallyme</td>\n",
       "      <td>Shaftronics</td>\n",
       "    </tr>\n",
       "  </tbody>\n",
       "</table>\n",
       "<p>25302 rows × 2 columns</p>\n",
       "</div>"
      ],
      "text/plain": [
       "              source user                                       linked users\n",
       "0            frankEfurter  IReadItOnReddit43,Mmiklase,erdbeerheld,owljay,...\n",
       "1       simplythrowmeaway  larsskynyrd79,deathangel1217,linkenski,ValarM0...\n",
       "2                   gmiz0  berrythecat,alex23b,bluek00laid,Chaos_Therum,3...\n",
       "3               Frogtown_        brokenpixel,TheCreepyDude,bluek00laid,gmiz0\n",
       "4          tinderhackflex                                               Liru\n",
       "...                   ...                                                ...\n",
       "25297              optsyn                                               imro\n",
       "25298           DJ_Skully                                               imro\n",
       "25299  Zelda___Fitzgerald                                               imro\n",
       "25300           Skinny128                                               imro\n",
       "25301       noitsreallyme                                        Shaftronics\n",
       "\n",
       "[25302 rows x 2 columns]"
      ]
     },
     "execution_count": 36,
     "metadata": {},
     "output_type": "execute_result"
    }
   ],
   "source": [
    "# Read dataset\n",
    "data = pd.read_csv('networkDataset_v2.psv',skiprows=1, sep = \"|\", index_col=False, \n",
    "                 names=['source user', 'linked users'])\n",
    "data"
   ]
  },
  {
   "cell_type": "code",
   "execution_count": 35,
   "metadata": {},
   "outputs": [
    {
     "name": "stdout",
     "output_type": "stream",
     "text": [
      "Size: 50604\n",
      "Shape: (25302, 2)\n",
      "Dimensions: 2\n"
     ]
    }
   ],
   "source": [
    "# Dimensions\n",
    "print(\"Size:\", data.size)\n",
    "print(\"Shape:\", data.shape)\n",
    "print(\"Dimensions:\", data.ndim)"
   ]
  },
  {
   "cell_type": "code",
   "execution_count": null,
   "metadata": {},
   "outputs": [],
   "source": []
  }
 ],
 "metadata": {
  "kernelspec": {
   "display_name": "Python 3",
   "language": "python",
   "name": "python3"
  },
  "language_info": {
   "codemirror_mode": {
    "name": "ipython",
    "version": 3
   },
   "file_extension": ".py",
   "mimetype": "text/x-python",
   "name": "python",
   "nbconvert_exporter": "python",
   "pygments_lexer": "ipython3",
   "version": "3.7.4"
  }
 },
 "nbformat": 4,
 "nbformat_minor": 4
}
